{
 "cells": [
  {
   "cell_type": "code",
   "execution_count": 48,
   "id": "3d759be2",
   "metadata": {},
   "outputs": [],
   "source": [
    "# EMI Calculator (For 1st Question)\n",
    "def cal_emi(principal, rate, tenure):\n",
    "    n = tenure * 12  \n",
    "    r = rate / 12 / 100  \n",
    "    emi = (principal * r * (1 + r) ** n) / ((1 + r) ** n - 1)\n",
    "    return emi"
   ]
  },
  {
   "cell_type": "code",
   "execution_count": 49,
   "id": "97c1489c",
   "metadata": {},
   "outputs": [],
   "source": [
    "#1. Let’s calculate the Home Loan EMI now using Python code. Principal Amount 50Lakhs, Rate of interest 8%, and Loan repayment tenure is 15 years. Find the EMI to be paid?"
   ]
  },
  {
   "cell_type": "code",
   "execution_count": 65,
   "id": "76bcbd54",
   "metadata": {},
   "outputs": [
    {
     "name": "stdout",
     "output_type": "stream",
     "text": [
      "EMI is  47782.6\n"
     ]
    }
   ],
   "source": [
    "principal_amount = 5000000 \n",
    "rate = 8  \n",
    "loan_tenure = 15  \n",
    "\n",
    "emi = cal_emi(principal_amount, rate, loan_tenure)\n",
    "print(\"EMI is \",round(emi,2))"
   ]
  },
  {
   "cell_type": "code",
   "execution_count": 66,
   "id": "533896b6",
   "metadata": {},
   "outputs": [],
   "source": [
    "# First Question is answered above"
   ]
  },
  {
   "cell_type": "code",
   "execution_count": 67,
   "id": "d9e59193",
   "metadata": {},
   "outputs": [],
   "source": [
    "def maximum_loan(rate, max_emi, tenure):\n",
    "    emi = max_emi\n",
    "    r = rate / 12 / 100  \n",
    "    principal = emi * ((1 + r) ** (tenure * 12) - 1) / (r * (1 + r) ** (tenure * 12))\n",
    "    return principal"
   ]
  },
  {
   "cell_type": "code",
   "execution_count": 68,
   "id": "cfbf9366",
   "metadata": {},
   "outputs": [],
   "source": [
    "# 2. If the interest rate increases to 10%, and you cannot pay more than 30,000 as EMI, find the maximum amount of Loan you can take/afford for the same period?"
   ]
  },
  {
   "cell_type": "code",
   "execution_count": 69,
   "id": "8c97cad8",
   "metadata": {},
   "outputs": [
    {
     "name": "stdout",
     "output_type": "stream",
     "text": [
      "Maximum loan amount is  2791723.16\n"
     ]
    }
   ],
   "source": [
    "new_interest_rate = 10 \n",
    "max_emi = 30000  \n",
    "\n",
    "maximum_loan = maximum_loan(new_interest_rate, max_emi, loan_tenure)\n",
    "print(\"Maximum loan amount is \",round(maximum_loan,2))"
   ]
  },
  {
   "cell_type": "code",
   "execution_count": 70,
   "id": "856ac6ae",
   "metadata": {},
   "outputs": [],
   "source": [
    "# Second Question is answered above"
   ]
  },
  {
   "cell_type": "code",
   "execution_count": 81,
   "id": "d4c094ef",
   "metadata": {},
   "outputs": [],
   "source": [
    "def total_interest(principal, rate, tenure):\n",
    "    r = rate / 12 / 100  \n",
    "    n = tenure * 12  \n",
    "    emi = cal_emi(principal, rate, tenure)\n",
    "    \n",
    "    total_interest = 0\n",
    "    for year in range(1, tenure + 1):\n",
    "        interest_paid = 0\n",
    "        for month in range(1, 13):\n",
    "            interest_component = principal * r\n",
    "            principal_component = emi - interest_component\n",
    "            principal -= principal_component\n",
    "            interest_paid += interest_component\n",
    "        total_interest += interest_paid\n",
    "        print(\"Year:\",year, \"Total interest paid:\",round(interest_paid,2))\n",
    "    \n",
    "    print(\"Total cumulative interest is\", round(total_interest,2))"
   ]
  },
  {
   "cell_type": "code",
   "execution_count": 82,
   "id": "a9f42a7e",
   "metadata": {},
   "outputs": [],
   "source": [
    "#3. For the Que 1. what is the total interest paid by you year-wise (from the 1st year to the 15th year). Also, what is the total cumulative interest paid by you in 15 years?"
   ]
  },
  {
   "cell_type": "code",
   "execution_count": 83,
   "id": "dfd13a73",
   "metadata": {},
   "outputs": [
    {
     "name": "stdout",
     "output_type": "stream",
     "text": [
      "Year: 1 Total interest paid: 393498.9\n",
      "Year: 2 Total interest paid: 378567.92\n",
      "Year: 3 Total interest paid: 362397.68\n",
      "Year: 4 Total interest paid: 344885.32\n",
      "Year: 5 Total interest paid: 325919.44\n",
      "Year: 6 Total interest paid: 305379.4\n",
      "Year: 7 Total interest paid: 283134.55\n",
      "Year: 8 Total interest paid: 259043.39\n",
      "Year: 9 Total interest paid: 232952.67\n",
      "Year: 10 Total interest paid: 204696.43\n",
      "Year: 11 Total interest paid: 174094.94\n",
      "Year: 12 Total interest paid: 140953.55\n",
      "Year: 13 Total interest paid: 105061.43\n",
      "Year: 14 Total interest paid: 66190.29\n",
      "Year: 15 Total interest paid: 24092.86\n",
      "Total cumulative interest is 3600868.76\n"
     ]
    }
   ],
   "source": [
    "total_interest(principal_amount, rate, loan_tenure)"
   ]
  },
  {
   "cell_type": "code",
   "execution_count": 84,
   "id": "ea8fde9c",
   "metadata": {},
   "outputs": [],
   "source": [
    "# The 3rd question is answered above"
   ]
  },
  {
   "cell_type": "code",
   "execution_count": 85,
   "id": "3acd03b8",
   "metadata": {},
   "outputs": [],
   "source": [
    "# 4. For the Que 1., in how many months would you have paid at least 50% of the Principal amount."
   ]
  },
  {
   "cell_type": "code",
   "execution_count": 86,
   "id": "e3adffe6",
   "metadata": {},
   "outputs": [
    {
     "name": "stdout",
     "output_type": "stream",
     "text": [
      "50% of principal amount will be paid by 116 months\n",
      "Principal amount yet to be paid is 2482741.95\n"
     ]
    }
   ],
   "source": [
    "principal = 5000000\n",
    "rate = 8\n",
    "tenure = 15\n",
    "tenure_in_months = tenure * 12\n",
    "periodic_interest_rate = rate / 12 / 100\n",
    "emi = cal_emi(principal, rate, tenure)\n",
    "\n",
    "principal_component = 0\n",
    "remaining_pa = principal - principal_component\n",
    "\n",
    "for i in range(1, tenure_in_months):\n",
    "    interest_component = remaining_pa * periodic_interest_rate\n",
    "    principal_component = emi - interest_component\n",
    "    remaining_pa -= principal_component\n",
    "    month = i\n",
    "    if remaining_pa < principal * 0.5:\n",
    "        print(\"50% of principal amount will be paid by\", i, \"months\")\n",
    "        print(\"Principal amount yet to be paid is\" ,round(remaining_pa,2))\n",
    "        break"
   ]
  },
  {
   "cell_type": "code",
   "execution_count": 87,
   "id": "ebfcbf19",
   "metadata": {},
   "outputs": [],
   "source": [
    "# Fourth question is answered above"
   ]
  },
  {
   "cell_type": "code",
   "execution_count": 78,
   "id": "9038a6cf",
   "metadata": {},
   "outputs": [],
   "source": [
    "# All the questions are answered above and separate codes have been provided to solve the respective questions"
   ]
  }
 ],
 "metadata": {
  "kernelspec": {
   "display_name": "Python 3 (ipykernel)",
   "language": "python",
   "name": "python3"
  },
  "language_info": {
   "codemirror_mode": {
    "name": "ipython",
    "version": 3
   },
   "file_extension": ".py",
   "mimetype": "text/x-python",
   "name": "python",
   "nbconvert_exporter": "python",
   "pygments_lexer": "ipython3",
   "version": "3.10.9"
  }
 },
 "nbformat": 4,
 "nbformat_minor": 5
}
